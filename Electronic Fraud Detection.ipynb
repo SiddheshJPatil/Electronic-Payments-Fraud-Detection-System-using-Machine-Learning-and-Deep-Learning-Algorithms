{
 "cells": [
  {
   "cell_type": "markdown",
   "id": "1cf7d55f",
   "metadata": {},
   "source": [
    "# Electronic Fraud Detection \n",
    "## 1) Problem Statement\n",
    "###  -- We have to Detect the Fraud Transactions"
   ]
  },
  {
   "cell_type": "code",
   "execution_count": 1,
   "id": "cfad537b",
   "metadata": {},
   "outputs": [],
   "source": [
    "import pandas as pd\n",
    "import numpy as np\n",
    "import matplotlib.pyplot as plt\n",
    "import seaborn as sns\n",
    "from sklearn.metrics import confusion_matrix,accuracy_score,precision_score,recall_score,f1_score,classification_report"
   ]
  },
  {
   "cell_type": "code",
   "execution_count": 2,
   "id": "4be95101",
   "metadata": {},
   "outputs": [],
   "source": [
    "data = pd.read_csv(\"D:\\Python_imarticus_Pranjal_sir\\project\\electronic_payment.csv\")"
   ]
  },
  {
   "cell_type": "code",
   "execution_count": 3,
   "id": "395959aa",
   "metadata": {},
   "outputs": [
    {
     "data": {
      "text/html": [
       "<div>\n",
       "<style scoped>\n",
       "    .dataframe tbody tr th:only-of-type {\n",
       "        vertical-align: middle;\n",
       "    }\n",
       "\n",
       "    .dataframe tbody tr th {\n",
       "        vertical-align: top;\n",
       "    }\n",
       "\n",
       "    .dataframe thead th {\n",
       "        text-align: right;\n",
       "    }\n",
       "</style>\n",
       "<table border=\"1\" class=\"dataframe\">\n",
       "  <thead>\n",
       "    <tr style=\"text-align: right;\">\n",
       "      <th></th>\n",
       "      <th>step</th>\n",
       "      <th>type</th>\n",
       "      <th>amount</th>\n",
       "      <th>nameOrig</th>\n",
       "      <th>oldbalanceOrg</th>\n",
       "      <th>newbalanceOrig</th>\n",
       "      <th>nameDest</th>\n",
       "      <th>oldbalanceDest</th>\n",
       "      <th>newbalanceDest</th>\n",
       "      <th>isFraud</th>\n",
       "      <th>isFlaggedFraud</th>\n",
       "    </tr>\n",
       "  </thead>\n",
       "  <tbody>\n",
       "    <tr>\n",
       "      <th>0</th>\n",
       "      <td>1</td>\n",
       "      <td>PAYMENT</td>\n",
       "      <td>9839.64</td>\n",
       "      <td>C1231006815</td>\n",
       "      <td>170136.0</td>\n",
       "      <td>160296.36</td>\n",
       "      <td>M1979787155</td>\n",
       "      <td>0.0</td>\n",
       "      <td>0.0</td>\n",
       "      <td>0</td>\n",
       "      <td>0</td>\n",
       "    </tr>\n",
       "    <tr>\n",
       "      <th>1</th>\n",
       "      <td>1</td>\n",
       "      <td>PAYMENT</td>\n",
       "      <td>1864.28</td>\n",
       "      <td>C1666544295</td>\n",
       "      <td>21249.0</td>\n",
       "      <td>19384.72</td>\n",
       "      <td>M2044282225</td>\n",
       "      <td>0.0</td>\n",
       "      <td>0.0</td>\n",
       "      <td>0</td>\n",
       "      <td>0</td>\n",
       "    </tr>\n",
       "    <tr>\n",
       "      <th>2</th>\n",
       "      <td>1</td>\n",
       "      <td>TRANSFER</td>\n",
       "      <td>181.00</td>\n",
       "      <td>C1305486145</td>\n",
       "      <td>181.0</td>\n",
       "      <td>0.00</td>\n",
       "      <td>C553264065</td>\n",
       "      <td>0.0</td>\n",
       "      <td>0.0</td>\n",
       "      <td>1</td>\n",
       "      <td>0</td>\n",
       "    </tr>\n",
       "    <tr>\n",
       "      <th>3</th>\n",
       "      <td>1</td>\n",
       "      <td>CASH_OUT</td>\n",
       "      <td>181.00</td>\n",
       "      <td>C840083671</td>\n",
       "      <td>181.0</td>\n",
       "      <td>0.00</td>\n",
       "      <td>C38997010</td>\n",
       "      <td>21182.0</td>\n",
       "      <td>0.0</td>\n",
       "      <td>1</td>\n",
       "      <td>0</td>\n",
       "    </tr>\n",
       "    <tr>\n",
       "      <th>4</th>\n",
       "      <td>1</td>\n",
       "      <td>PAYMENT</td>\n",
       "      <td>11668.14</td>\n",
       "      <td>C2048537720</td>\n",
       "      <td>41554.0</td>\n",
       "      <td>29885.86</td>\n",
       "      <td>M1230701703</td>\n",
       "      <td>0.0</td>\n",
       "      <td>0.0</td>\n",
       "      <td>0</td>\n",
       "      <td>0</td>\n",
       "    </tr>\n",
       "  </tbody>\n",
       "</table>\n",
       "</div>"
      ],
      "text/plain": [
       "   step      type    amount     nameOrig  oldbalanceOrg  newbalanceOrig  \\\n",
       "0     1   PAYMENT   9839.64  C1231006815       170136.0       160296.36   \n",
       "1     1   PAYMENT   1864.28  C1666544295        21249.0        19384.72   \n",
       "2     1  TRANSFER    181.00  C1305486145          181.0            0.00   \n",
       "3     1  CASH_OUT    181.00   C840083671          181.0            0.00   \n",
       "4     1   PAYMENT  11668.14  C2048537720        41554.0        29885.86   \n",
       "\n",
       "      nameDest  oldbalanceDest  newbalanceDest  isFraud  isFlaggedFraud  \n",
       "0  M1979787155             0.0             0.0        0               0  \n",
       "1  M2044282225             0.0             0.0        0               0  \n",
       "2   C553264065             0.0             0.0        1               0  \n",
       "3    C38997010         21182.0             0.0        1               0  \n",
       "4  M1230701703             0.0             0.0        0               0  "
      ]
     },
     "execution_count": 3,
     "metadata": {},
     "output_type": "execute_result"
    }
   ],
   "source": [
    "data.head()"
   ]
  },
  {
   "cell_type": "markdown",
   "id": "69e9440d",
   "metadata": {},
   "source": [
    "## Dataset Description:\n",
    "\n",
    "Reading/Importing the dataset\n",
    "\n",
    "--- Dataset details ---\n",
    "\n",
    "1)step: represents a unit of time where 1 step equals 1 hour\n",
    "\n",
    "2)type: type of online transaction\n",
    "\n",
    "3)amount: the amount of the transaction\n",
    "\n",
    "4)nameOrig: customer starting the transaction\n",
    "\n",
    "5)oldbalanceOrg: balance before the transaction\n",
    "\n",
    "6)newbalanceOrig: balance after the transaction\n",
    "\n",
    "7)nameDest: recipient of the transaction\n",
    "\n",
    "8)oldbalanceDest: initial balance of recipient before the transaction\n",
    "\n",
    "9)newbalanceDest: the new balance of recipient after the transaction\n",
    "\n",
    "10)isFraud: fraud transaction"
   ]
  },
  {
   "cell_type": "code",
   "execution_count": 4,
   "id": "03ac4a90",
   "metadata": {},
   "outputs": [
    {
     "data": {
      "text/plain": [
       "(1048575, 11)"
      ]
     },
     "execution_count": 4,
     "metadata": {},
     "output_type": "execute_result"
    }
   ],
   "source": [
    "data.shape"
   ]
  },
  {
   "cell_type": "code",
   "execution_count": 5,
   "id": "6e2a462d",
   "metadata": {},
   "outputs": [
    {
     "name": "stdout",
     "output_type": "stream",
     "text": [
      "<class 'pandas.core.frame.DataFrame'>\n",
      "RangeIndex: 1048575 entries, 0 to 1048574\n",
      "Data columns (total 11 columns):\n",
      " #   Column          Non-Null Count    Dtype  \n",
      "---  ------          --------------    -----  \n",
      " 0   step            1048575 non-null  int64  \n",
      " 1   type            1048575 non-null  object \n",
      " 2   amount          1048575 non-null  float64\n",
      " 3   nameOrig        1048575 non-null  object \n",
      " 4   oldbalanceOrg   1048575 non-null  float64\n",
      " 5   newbalanceOrig  1048575 non-null  float64\n",
      " 6   nameDest        1048575 non-null  object \n",
      " 7   oldbalanceDest  1048575 non-null  float64\n",
      " 8   newbalanceDest  1048575 non-null  float64\n",
      " 9   isFraud         1048575 non-null  int64  \n",
      " 10  isFlaggedFraud  1048575 non-null  int64  \n",
      "dtypes: float64(5), int64(3), object(3)\n",
      "memory usage: 88.0+ MB\n"
     ]
    }
   ],
   "source": [
    "data.info()"
   ]
  },
  {
   "cell_type": "code",
   "execution_count": 6,
   "id": "85e4dcae",
   "metadata": {},
   "outputs": [
    {
     "name": "stdout",
     "output_type": "stream",
     "text": [
      "Object Type Columns:-\n",
      "Index(['type', 'nameOrig', 'nameDest'], dtype='object')\n",
      "\n",
      "Numerical Type Columns:-\n",
      "Index(['step', 'amount', 'oldbalanceOrg', 'newbalanceOrig', 'oldbalanceDest',\n",
      "       'newbalanceDest', 'isFraud', 'isFlaggedFraud'],\n",
      "      dtype='object')\n"
     ]
    }
   ],
   "source": [
    "object_columns = data.select_dtypes(include=['object']).columns\n",
    "print('Object Type Columns:-')\n",
    "print(object_columns)\n",
    "\n",
    "num_columns = data.select_dtypes(include=['int','float64']).columns\n",
    "print('\\nNumerical Type Columns:-')\n",
    "print(num_columns)"
   ]
  },
  {
   "cell_type": "code",
   "execution_count": 7,
   "id": "4f7be421",
   "metadata": {},
   "outputs": [
    {
     "data": {
      "text/plain": [
       "step                   95\n",
       "type                    5\n",
       "amount            1009606\n",
       "nameOrig          1048317\n",
       "oldbalanceOrg      391033\n",
       "newbalanceOrig     440792\n",
       "nameDest           449635\n",
       "oldbalanceDest     590110\n",
       "newbalanceDest     437054\n",
       "isFraud                 2\n",
       "isFlaggedFraud          1\n",
       "dtype: int64"
      ]
     },
     "execution_count": 7,
     "metadata": {},
     "output_type": "execute_result"
    }
   ],
   "source": [
    "data.nunique()"
   ]
  },
  {
   "cell_type": "markdown",
   "id": "c8e47fb7",
   "metadata": {},
   "source": [
    "## Handling Null values"
   ]
  },
  {
   "cell_type": "code",
   "execution_count": 8,
   "id": "508f3590",
   "metadata": {},
   "outputs": [
    {
     "data": {
      "text/plain": [
       "step              0\n",
       "type              0\n",
       "amount            0\n",
       "nameOrig          0\n",
       "oldbalanceOrg     0\n",
       "newbalanceOrig    0\n",
       "nameDest          0\n",
       "oldbalanceDest    0\n",
       "newbalanceDest    0\n",
       "isFraud           0\n",
       "isFlaggedFraud    0\n",
       "dtype: int64"
      ]
     },
     "execution_count": 8,
     "metadata": {},
     "output_type": "execute_result"
    }
   ],
   "source": [
    "data.isnull().sum()"
   ]
  },
  {
   "cell_type": "markdown",
   "id": "99e7389c",
   "metadata": {},
   "source": [
    "There are no Null values"
   ]
  },
  {
   "cell_type": "markdown",
   "id": "3b4d2720",
   "metadata": {},
   "source": [
    "# Exploratory Data Analysis"
   ]
  },
  {
   "cell_type": "code",
   "execution_count": 9,
   "id": "17517279",
   "metadata": {},
   "outputs": [
    {
     "data": {
      "text/plain": [
       "array([ 1,  2,  3,  4,  5,  6,  7,  8,  9, 10, 11, 12, 13, 14, 15, 16, 17,\n",
       "       18, 19, 20, 21, 22, 23, 24, 25, 26, 27, 28, 29, 30, 31, 32, 33, 34,\n",
       "       35, 36, 37, 38, 39, 40, 41, 42, 43, 44, 45, 46, 47, 48, 49, 50, 51,\n",
       "       52, 53, 54, 55, 56, 57, 58, 59, 60, 61, 62, 63, 64, 65, 66, 67, 68,\n",
       "       69, 70, 71, 72, 73, 74, 75, 76, 77, 78, 79, 80, 81, 82, 83, 84, 85,\n",
       "       86, 87, 88, 89, 90, 91, 92, 93, 94, 95], dtype=int64)"
      ]
     },
     "execution_count": 9,
     "metadata": {},
     "output_type": "execute_result"
    }
   ],
   "source": [
    "data['step'].unique()  "
   ]
  },
  {
   "cell_type": "code",
   "execution_count": 10,
   "id": "a2533b0a",
   "metadata": {},
   "outputs": [],
   "source": [
    "import warnings\n",
    "warnings.filterwarnings('ignore')"
   ]
  },
  {
   "cell_type": "code",
   "execution_count": 11,
   "id": "dfc4d2c5",
   "metadata": {},
   "outputs": [
    {
     "data": {
      "image/png": "[encoded data removed]",
      "text/plain": [
       "<Figure size 1440x720 with 1 Axes>"
      ]
     },
     "metadata": {
      "needs_background": "light"
     },
     "output_type": "display_data"
    }
   ],
   "source": [
    "plt.figure(figsize=(20,10))\n",
    "sns.countplot(data['step'],data=data ,palette='hls')\n",
    "plt.xticks(rotation = 90)\n",
    "plt.show()"
   ]
  },
  {
   "cell_type": "code",
   "execution_count": 12,
   "id": "f88bf225",
   "metadata": {},
   "outputs": [
    {
     "data": {
      "text/plain": [
       "CASH_OUT    373641\n",
       "PAYMENT     353873\n",
       "CASH_IN     227130\n",
       "TRANSFER     86753\n",
       "DEBIT         7178\n",
       "Name: type, dtype: int64"
      ]
     },
     "execution_count": 12,
     "metadata": {},
     "output_type": "execute_result"
    }
   ],
   "source": [
    "data.type.value_counts()"
   ]
  },
  {
   "cell_type": "code",
   "execution_count": 13,
   "id": "8b22f3bd",
   "metadata": {},
   "outputs": [
    {
     "data": {
      "image/png": "[encoded data removed]",
      "text/plain": [
       "<Figure size 1440x720 with 1 Axes>"
      ]
     },
     "metadata": {
      "needs_background": "light"
     },
     "output_type": "display_data"
    }
   ],
   "source": [
    "plt.figure(figsize=(20,10))\n",
    "sns.countplot(data['type'], data = data, palette = 'hls')\n",
    "plt.show()"
   ]
  },
  {
   "cell_type": "code",
   "execution_count": 14,
   "id": "344d5539",
   "metadata": {},
   "outputs": [
    {
     "data": {
      "text/plain": [
       "0    1047433\n",
       "1       1142\n",
       "Name: isFraud, dtype: int64"
      ]
     },
     "execution_count": 14,
     "metadata": {},
     "output_type": "execute_result"
    }
   ],
   "source": [
    "data.isFraud.value_counts()"
   ]
  },
  {
   "cell_type": "markdown",
   "id": "6764a12f",
   "metadata": {},
   "source": [
    "--Imblanced data"
   ]
  },
  {
   "cell_type": "code",
   "execution_count": 15,
   "id": "75384244",
   "metadata": {},
   "outputs": [
    {
     "data": {
      "image/png": "[encoded data removed]",
      "text/plain": [
       "<Figure size 1440x720 with 1 Axes>"
      ]
     },
     "metadata": {
      "needs_background": "light"
     },
     "output_type": "display_data"
    }
   ],
   "source": [
    "plt.figure(figsize=(20,10))\n",
    "sns.countplot(data['isFraud'], data = data, palette = 'hls')\n",
    "plt.show()"
   ]
  },
  {
   "cell_type": "code",
   "execution_count": 16,
   "id": "db9d9884",
   "metadata": {},
   "outputs": [
    {
     "data": {
      "image/png": "[encoded data removed]",
      "text/plain": [
       "<Figure size 1440x720 with 1 Axes>"
      ]
     },
     "metadata": {
      "needs_background": "light"
     },
     "output_type": "display_data"
    }
   ],
   "source": [
    "plt.figure(figsize=(20,10))\n",
    "sns.barplot(x = data['type'], y = data['amount'], data = data, ci=None, palette = 'hls')\n",
    "plt.show()"
   ]
  },
  {
   "cell_type": "code",
   "execution_count": 17,
   "id": "bc26a2da",
   "metadata": {},
   "outputs": [
    {
     "data": {
      "image/png": "[encoded data removed]",
      "text/plain": [
       "<Figure size 1080x432 with 1 Axes>"
      ]
     },
     "metadata": {
      "needs_background": "light"
     },
     "output_type": "display_data"
    }
   ],
   "source": [
    "plt.figure(figsize=(15,6))\n",
    "sns.barplot(x = data['type'], y = data['oldbalanceOrg'], data = data,ci=None, palette = 'hls')\n",
    "plt.show()"
   ]
  },
  {
   "cell_type": "code",
   "execution_count": 18,
   "id": "10cf81e8",
   "metadata": {},
   "outputs": [
    {
     "data": {
      "image/png": "[encoded data removed]",
      "text/plain": [
       "<Figure size 1080x432 with 1 Axes>"
      ]
     },
     "metadata": {
      "needs_background": "light"
     },
     "output_type": "display_data"
    }
   ],
   "source": [
    "plt.figure(figsize=(15,6))\n",
    "sns.barplot(x = data['type'], y = data['newbalanceOrig'], data = data,ci=None, palette = 'hls')\n",
    "plt.show()"
   ]
  },
  {
   "cell_type": "code",
   "execution_count": 19,
   "id": "43e2e70c",
   "metadata": {},
   "outputs": [
    {
     "data": {
      "image/png": "[encoded data removed]",
      "text/plain": [
       "<Figure size 1080x432 with 1 Axes>"
      ]
     },
     "metadata": {
      "needs_background": "light"
     },
     "output_type": "display_data"
    }
   ],
   "source": [
    "plt.figure(figsize=(15,6))\n",
    "sns.barplot(x = data['type'], y = data['oldbalanceDest'], data = data,ci=None, palette = 'hls')\n",
    "plt.show()"
   ]
  },
  {
   "cell_type": "code",
   "execution_count": 20,
   "id": "bb21a2b5",
   "metadata": {},
   "outputs": [
    {
     "data": {
      "image/png": "[encoded data removed]",
      "text/plain": [
       "<Figure size 1080x432 with 1 Axes>"
      ]
     },
     "metadata": {
      "needs_background": "light"
     },
     "output_type": "display_data"
    }
   ],
   "source": [
    "plt.figure(figsize=(15,6))\n",
    "sns.barplot(x = data['type'], y = data['newbalanceDest'], data = data,ci=None, palette = 'hls')\n",
    "plt.show()"
   ]
  },
  {
   "cell_type": "code",
   "execution_count": 21,
   "id": "916e6235",
   "metadata": {},
   "outputs": [
    {
     "data": {
      "image/png": "[encoded data removed]",
      "text/plain": [
       "<Figure size 1080x432 with 1 Axes>"
      ]
     },
     "metadata": {
      "needs_background": "light"
     },
     "output_type": "display_data"
    }
   ],
   "source": [
    "plt.figure(figsize=(15,6))\n",
    "sns.barplot(x = data['type'], y = data['isFraud'], data = data,ci=None,  palette = 'hls')\n",
    "plt.show()"
   ]
  },
  {
   "cell_type": "code",
   "execution_count": 22,
   "id": "1a6956c8",
   "metadata": {},
   "outputs": [
    {
     "data": {
      "image/png": "[encoded data removed]",
      "text/plain": [
       "<Figure size 1080x432 with 1 Axes>"
      ]
     },
     "metadata": {
      "needs_background": "light"
     },
     "output_type": "display_data"
    }
   ],
   "source": [
    "plt.figure(figsize=(15,6))\n",
    "sns.barplot(x = data['isFraud'], y = data['amount'], data = data, ci = None, palette = 'hls')\n",
    "plt.show()"
   ]
  },
  {
   "cell_type": "code",
   "execution_count": 23,
   "id": "2111460b",
   "metadata": {},
   "outputs": [
    {
     "data": {
      "image/png": "[encoded data removed]",
      "text/plain": [
       "<Figure size 1080x432 with 1 Axes>"
      ]
     },
     "metadata": {
      "needs_background": "light"
     },
     "output_type": "display_data"
    }
   ],
   "source": [
    "plt.figure(figsize=(15,6))\n",
    "sns.barplot(x = data['isFraud'], y = data['type'], data = data, ci = None, palette = 'hls')\n",
    "plt.show()"
   ]
  },
  {
   "cell_type": "markdown",
   "id": "e32e2a4e",
   "metadata": {},
   "source": [
    "### Converting type column into numeric and Removing Unwanted columns which cannot be used for model building"
   ]
  },
  {
   "cell_type": "code",
   "execution_count": 24,
   "id": "5440bb13",
   "metadata": {},
   "outputs": [],
   "source": [
    "data.type.replace({'CASH_OUT':1,'PAYMENT':2,'CASH_IN':3,\n",
    "                   'TRANSFER':4,'DEBIT':5},inplace=True)"
   ]
  },
  {
   "cell_type": "code",
   "execution_count": 25,
   "id": "76a36d03",
   "metadata": {},
   "outputs": [],
   "source": [
    "data = data.drop(['nameOrig','nameDest','isFlaggedFraud'],axis=1)"
   ]
  },
  {
   "cell_type": "code",
   "execution_count": 26,
   "id": "5a92fc2f",
   "metadata": {},
   "outputs": [
    {
     "data": {
      "text/plain": [
       "(1048575, 8)"
      ]
     },
     "execution_count": 26,
     "metadata": {},
     "output_type": "execute_result"
    }
   ],
   "source": [
    "data.shape"
   ]
  },
  {
   "cell_type": "markdown",
   "id": "727ccced",
   "metadata": {},
   "source": [
    "### Correlation between columns"
   ]
  },
  {
   "cell_type": "code",
   "execution_count": 27,
   "id": "1183dc9c",
   "metadata": {},
   "outputs": [
    {
     "data": {
      "image/png": "[encoded data removed]",
      "text/plain": [
       "<Figure size 1080x1080 with 2 Axes>"
      ]
     },
     "metadata": {
      "needs_background": "light"
     },
     "output_type": "display_data"
    }
   ],
   "source": [
    "plt.figure(figsize =(15,15))\n",
    "sns.heatmap(data.corr().round(3) , annot = True ,cmap=\"rocket\" );"
   ]
  },
  {
   "cell_type": "markdown",
   "id": "422cceff",
   "metadata": {},
   "source": [
    "# Handling unbalanced data using SMOTE "
   ]
  },
  {
   "cell_type": "code",
   "execution_count": 28,
   "id": "b111cf6a",
   "metadata": {},
   "outputs": [],
   "source": [
    "df_new = data.copy()"
   ]
  },
  {
   "cell_type": "code",
   "execution_count": 29,
   "id": "95653460",
   "metadata": {},
   "outputs": [],
   "source": [
    "from sklearn.model_selection import train_test_split"
   ]
  },
  {
   "cell_type": "code",
   "execution_count": 30,
   "id": "0c6332de",
   "metadata": {},
   "outputs": [],
   "source": [
    "from sklearn.model_selection import train_test_split\n",
    "\n",
    "df_new_train , df_new_test = train_test_split(df_new , test_size = .25)"
   ]
  },
  {
   "cell_type": "code",
   "execution_count": 31,
   "id": "187e1b31",
   "metadata": {},
   "outputs": [],
   "source": [
    "df_new_train_x = df_new_train.iloc[:,0:-1]\n",
    "df_new_train_y = df_new_train.iloc[: ,-1]\n",
    "\n",
    "df_new_test_x = df_new_test.iloc[:,0:-1]\n",
    "df_new_test_y = df_new_test.iloc[: ,-1]"
   ]
  },
  {
   "cell_type": "code",
   "execution_count": 32,
   "id": "5df0ed04",
   "metadata": {},
   "outputs": [],
   "source": [
    "import imblearn\n",
    "from imblearn.over_sampling import SMOTE"
   ]
  },
  {
   "cell_type": "code",
   "execution_count": 33,
   "id": "489d5749",
   "metadata": {},
   "outputs": [],
   "source": [
    "sm = SMOTE()"
   ]
  },
  {
   "cell_type": "code",
   "execution_count": 34,
   "id": "9a053692",
   "metadata": {},
   "outputs": [
    {
     "data": {
      "text/plain": [
       "SMOTE()"
      ]
     },
     "execution_count": 34,
     "metadata": {},
     "output_type": "execute_result"
    }
   ],
   "source": [
    "sm.fit(df_new_train_x , df_new_train_y)"
   ]
  },
  {
   "cell_type": "code",
   "execution_count": 35,
   "id": "a7982dbc",
   "metadata": {},
   "outputs": [],
   "source": [
    "df_new_train_x1 , df_new_train_y1 = sm.fit_resample(df_new_train_x , df_new_train_y)"
   ]
  },
  {
   "cell_type": "code",
   "execution_count": 36,
   "id": "fc40bebb",
   "metadata": {},
   "outputs": [
    {
     "data": {
      "text/plain": [
       "0    785589\n",
       "1       842\n",
       "Name: isFraud, dtype: int64"
      ]
     },
     "execution_count": 36,
     "metadata": {},
     "output_type": "execute_result"
    }
   ],
   "source": [
    "df_new_train_y.value_counts()"
   ]
  },
  {
   "cell_type": "code",
   "execution_count": 37,
   "id": "00eecd03",
   "metadata": {},
   "outputs": [
    {
     "data": {
      "text/plain": [
       "0    785589\n",
       "1    785589\n",
       "Name: isFraud, dtype: int64"
      ]
     },
     "execution_count": 37,
     "metadata": {},
     "output_type": "execute_result"
    }
   ],
   "source": [
    "df_new_train_y1.value_counts()"
   ]
  },
  {
   "cell_type": "markdown",
   "id": "eb0e3825",
   "metadata": {},
   "source": [
    "# Logistic Regression "
   ]
  },
  {
   "cell_type": "code",
   "execution_count": 38,
   "id": "da234e4a",
   "metadata": {},
   "outputs": [],
   "source": [
    "from sklearn.linear_model import LogisticRegression\n",
    "lr = LogisticRegression()"
   ]
  },
  {
   "cell_type": "code",
   "execution_count": 39,
   "id": "9fa0bf6b",
   "metadata": {},
   "outputs": [
    {
     "data": {
      "text/plain": [
       "LogisticRegression()"
      ]
     },
     "execution_count": 39,
     "metadata": {},
     "output_type": "execute_result"
    }
   ],
   "source": [
    "lr.fit(df_new_train_x1 , df_new_train_y1)"
   ]
  },
  {
   "cell_type": "code",
   "execution_count": 40,
   "id": "bd68dde4",
   "metadata": {},
   "outputs": [],
   "source": [
    "predict = lr.predict(df_new_test_x)"
   ]
  },
  {
   "cell_type": "code",
   "execution_count": null,
   "id": "5082d26f",
   "metadata": {},
   "outputs": [],
   "source": [
    "log_accuracy = accuracy_score(df_new_test_y, predict)"
   ]
  },
  {
   "cell_type": "code",
   "execution_count": 41,
   "id": "48791c0e",
   "metadata": {},
   "outputs": [
    {
     "name": "stdout",
     "output_type": "stream",
     "text": [
      "Logistic Regression:\n",
      "Accuracy: 0.9220809936523438\n",
      "Precision: 0.014052540081128067\n",
      "Recall: 0.97\n",
      "F1 Score: 0.027703731911652704\n",
      "Confusion Matrix:\n",
      "[[241427  20417]\n",
      " [     9    291]]\n",
      "Classification Report:\n",
      "              precision    recall  f1-score   support\n",
      "\n",
      "           0       1.00      0.92      0.96    261844\n",
      "           1       0.01      0.97      0.03       300\n",
      "\n",
      "    accuracy                           0.92    262144\n",
      "   macro avg       0.51      0.95      0.49    262144\n",
      "weighted avg       1.00      0.92      0.96    262144\n",
      "\n",
      "\n"
     ]
    }
   ],
   "source": [
    "print(\"Logistic Regression:\")\n",
    "print(\"Accuracy:\", accuracy_score(df_new_test_y, predict))\n",
    "print(\"Precision:\", precision_score(df_new_test_y, predict))\n",
    "print(\"Recall:\", recall_score(df_new_test_y, predict))\n",
    "print(\"F1 Score:\", f1_score(df_new_test_y, predict))\n",
    "print(\"Confusion Matrix:\")\n",
    "print(confusion_matrix(df_new_test_y, predict))\n",
    "print(\"Classification Report:\")\n",
    "print(classification_report(df_new_test_y, predict))\n",
    "print()"
   ]
  },
  {
   "cell_type": "markdown",
   "id": "9a18527d",
   "metadata": {},
   "source": [
    "# DecisionTree"
   ]
  },
  {
   "cell_type": "code",
   "execution_count": 42,
   "id": "8e02fc25",
   "metadata": {},
   "outputs": [],
   "source": [
    "from sklearn.tree import DecisionTreeClassifier"
   ]
  },
  {
   "cell_type": "code",
   "execution_count": 43,
   "id": "28852a1c",
   "metadata": {},
   "outputs": [
    {
     "data": {
      "text/plain": [
       "DecisionTreeClassifier()"
      ]
     },
     "execution_count": 43,
     "metadata": {},
     "output_type": "execute_result"
    }
   ],
   "source": [
    "dt = DecisionTreeClassifier()\n",
    "dt.fit(df_new_train_x1 , df_new_train_y1)"
   ]
  },
  {
   "cell_type": "code",
   "execution_count": 44,
   "id": "c600237b",
   "metadata": {},
   "outputs": [],
   "source": [
    "dt_y_pred = dt.predict(df_new_test_x)"
   ]
  },
  {
   "cell_type": "code",
   "execution_count": 58,
   "id": "cde2e490",
   "metadata": {},
   "outputs": [],
   "source": [
    "dt_accuracy =accuracy_score(df_new_test_y, dt_y_pred)"
   ]
  },
  {
   "cell_type": "code",
   "execution_count": 56,
   "id": "28a01710",
   "metadata": {},
   "outputs": [
    {
     "name": "stdout",
     "output_type": "stream",
     "text": [
      "Decision Tree:\n",
      "Accuracy: 0.9985542297363281\n",
      "Precision: 0.4355628058727569\n",
      "Recall: 0.89\n",
      "F1 Score: 0.5848849945235488\n",
      "Confusion Matrix:\n",
      "[[261498    346]\n",
      " [    33    267]]\n",
      "Classification Report:\n",
      "              precision    recall  f1-score   support\n",
      "\n",
      "           0       1.00      1.00      1.00    261844\n",
      "           1       0.44      0.89      0.58       300\n",
      "\n",
      "    accuracy                           1.00    262144\n",
      "   macro avg       0.72      0.94      0.79    262144\n",
      "weighted avg       1.00      1.00      1.00    262144\n",
      "\n",
      "\n"
     ]
    }
   ],
   "source": [
    "print(\"Decision Tree:\")\n",
    "print(\"Accuracy:\", accuracy_score(df_new_test_y, dt_y_pred))\n",
    "print(\"Precision:\", precision_score(df_new_test_y, dt_y_pred))\n",
    "print(\"Recall:\", recall_score(df_new_test_y, dt_y_pred))\n",
    "print(\"F1 Score:\", f1_score(df_new_test_y, dt_y_pred))\n",
    "print(\"Confusion Matrix:\")\n",
    "print(confusion_matrix(df_new_test_y, dt_y_pred))\n",
    "print(\"Classification Report:\")\n",
    "print(classification_report(df_new_test_y, dt_y_pred))\n",
    "print()"
   ]
  },
  {
   "cell_type": "markdown",
   "id": "150a8f9e",
   "metadata": {},
   "source": [
    "# KNN"
   ]
  },
  {
   "cell_type": "code",
   "execution_count": 46,
   "id": "c07350cc",
   "metadata": {},
   "outputs": [],
   "source": [
    "from sklearn.neighbors import KNeighborsClassifier\n",
    "knn = KNeighborsClassifier()"
   ]
  },
  {
   "cell_type": "code",
   "execution_count": 47,
   "id": "a5472bc8",
   "metadata": {},
   "outputs": [
    {
     "data": {
      "text/plain": [
       "KNeighborsClassifier()"
      ]
     },
     "execution_count": 47,
     "metadata": {},
     "output_type": "execute_result"
    }
   ],
   "source": [
    "knn.fit(df_new_train_x1 , df_new_train_y1)"
   ]
  },
  {
   "cell_type": "code",
   "execution_count": 50,
   "id": "50dd12e3",
   "metadata": {},
   "outputs": [],
   "source": [
    "pred_knn = knn.predict(df_new_test_x)"
   ]
  },
  {
   "cell_type": "code",
   "execution_count": 59,
   "id": "32626390",
   "metadata": {},
   "outputs": [],
   "source": [
    "knn_accuracy = accuracy_score(df_new_test_y, pred_knn)"
   ]
  },
  {
   "cell_type": "code",
   "execution_count": 51,
   "id": "89c425a7",
   "metadata": {},
   "outputs": [
    {
     "name": "stdout",
     "output_type": "stream",
     "text": [
      "KNeighbors:\n",
      "Accuracy: 0.9909248352050781\n",
      "Precision: 0.0975609756097561\n",
      "Recall: 0.84\n",
      "F1 Score: 0.17481789802289283\n",
      "Confusion Matrix:\n",
      "[[259513   2331]\n",
      " [    48    252]]\n",
      "Classification Report:\n",
      "              precision    recall  f1-score   support\n",
      "\n",
      "           0       1.00      0.99      1.00    261844\n",
      "           1       0.10      0.84      0.17       300\n",
      "\n",
      "    accuracy                           0.99    262144\n",
      "   macro avg       0.55      0.92      0.59    262144\n",
      "weighted avg       1.00      0.99      0.99    262144\n",
      "\n",
      "\n"
     ]
    }
   ],
   "source": [
    "print(\"KNeighbors:\")\n",
    "print(\"Accuracy:\", accuracy_score(df_new_test_y, pred_knn))\n",
    "print(\"Precision:\", precision_score(df_new_test_y, pred_knn))\n",
    "print(\"Recall:\", recall_score(df_new_test_y, pred_knn))\n",
    "print(\"F1 Score:\", f1_score(df_new_test_y, pred_knn))\n",
    "print(\"Confusion Matrix:\")\n",
    "print(confusion_matrix(df_new_test_y, pred_knn))\n",
    "print(\"Classification Report:\")\n",
    "print(classification_report(df_new_test_y, pred_knn))\n",
    "print()"
   ]
  },
  {
   "cell_type": "markdown",
   "id": "c4519874",
   "metadata": {},
   "source": [
    "# AdaBoost "
   ]
  },
  {
   "cell_type": "code",
   "execution_count": 52,
   "id": "2aeca14a",
   "metadata": {},
   "outputs": [],
   "source": [
    "from sklearn.ensemble import AdaBoostClassifier\n",
    "ada = AdaBoostClassifier()"
   ]
  },
  {
   "cell_type": "code",
   "execution_count": 53,
   "id": "61224ca6",
   "metadata": {},
   "outputs": [
    {
     "data": {
      "text/plain": [
       "AdaBoostClassifier()"
      ]
     },
     "execution_count": 53,
     "metadata": {},
     "output_type": "execute_result"
    }
   ],
   "source": [
    "ada.fit(df_new_train_x1 , df_new_train_y1)"
   ]
  },
  {
   "cell_type": "code",
   "execution_count": 54,
   "id": "d3874f6d",
   "metadata": {},
   "outputs": [],
   "source": [
    "pred_ada = ada.predict(df_new_test_x)"
   ]
  },
  {
   "cell_type": "code",
   "execution_count": 60,
   "id": "5a98146d",
   "metadata": {},
   "outputs": [],
   "source": [
    "ada_accuracy = accuracy_score(df_new_test_y, pred_ada)"
   ]
  },
  {
   "cell_type": "code",
   "execution_count": 55,
   "id": "8c159a32",
   "metadata": {},
   "outputs": [
    {
     "name": "stdout",
     "output_type": "stream",
     "text": [
      "AdaBoost:\n",
      "Accuracy: 0.9631080627441406\n",
      "Precision: 0.029142799718621243\n",
      "Recall: 0.9666666666666667\n",
      "F1 Score: 0.05657984586869574\n",
      "Confusion Matrix:\n",
      "[[252183   9661]\n",
      " [    10    290]]\n",
      "Classification Report:\n",
      "              precision    recall  f1-score   support\n",
      "\n",
      "           0       1.00      0.96      0.98    261844\n",
      "           1       0.03      0.97      0.06       300\n",
      "\n",
      "    accuracy                           0.96    262144\n",
      "   macro avg       0.51      0.96      0.52    262144\n",
      "weighted avg       1.00      0.96      0.98    262144\n",
      "\n",
      "\n"
     ]
    }
   ],
   "source": [
    "print(\"AdaBoost:\")\n",
    "print(\"Accuracy:\", accuracy_score(df_new_test_y, pred_ada))\n",
    "print(\"Precision:\", precision_score(df_new_test_y, pred_ada))\n",
    "print(\"Recall:\", recall_score(df_new_test_y, pred_ada))\n",
    "print(\"F1 Score:\", f1_score(df_new_test_y, pred_ada))\n",
    "print(\"Confusion Matrix:\")\n",
    "print(confusion_matrix(df_new_test_y, pred_ada))\n",
    "print(\"Classification Report:\")\n",
    "print(classification_report(df_new_test_y, pred_ada))\n",
    "print()"
   ]
  },
  {
   "cell_type": "code",
   "execution_count": null,
   "id": "6ed47892",
   "metadata": {},
   "outputs": [],
   "source": []
  },
  {
   "cell_type": "code",
   "execution_count": 68,
   "id": "d320694d",
   "metadata": {},
   "outputs": [],
   "source": [
    "# c. Selecting important features based on Random Forest"
   ]
  },
  {
   "cell_type": "code",
   "execution_count": 69,
   "id": "fd63d9af",
   "metadata": {},
   "outputs": [],
   "source": [
    "# Random Forest Classifier\n",
    "\n",
    "from sklearn.ensemble import RandomForestClassifier\n",
    "\n",
    "rfc = RandomForestClassifier()"
   ]
  },
  {
   "cell_type": "code",
   "execution_count": 70,
   "id": "e050c9b4",
   "metadata": {},
   "outputs": [
    {
     "data": {
      "text/plain": [
       "RandomForestClassifier()"
      ]
     },
     "execution_count": 70,
     "metadata": {},
     "output_type": "execute_result"
    }
   ],
   "source": [
    "rfc.fit(df_new_train_x1 , df_new_train_y1)"
   ]
  },
  {
   "cell_type": "code",
   "execution_count": 71,
   "id": "2635baa2",
   "metadata": {},
   "outputs": [],
   "source": [
    "pred_rfc = rfc.predict(df_new_test_x)"
   ]
  },
  {
   "cell_type": "code",
   "execution_count": 72,
   "id": "d9edb04a",
   "metadata": {},
   "outputs": [
    {
     "name": "stdout",
     "output_type": "stream",
     "text": [
      "Random Foresy:\n",
      "Accuracy: 0.9991607666015625\n",
      "Precision: 0.5909090909090909\n",
      "Recall: 0.8666666666666667\n",
      "F1 Score: 0.7027027027027029\n",
      "Confusion Matrix:\n",
      "[[261664    180]\n",
      " [    40    260]]\n",
      "Classification Report:\n",
      "              precision    recall  f1-score   support\n",
      "\n",
      "           0       1.00      1.00      1.00    261844\n",
      "           1       0.59      0.87      0.70       300\n",
      "\n",
      "    accuracy                           1.00    262144\n",
      "   macro avg       0.80      0.93      0.85    262144\n",
      "weighted avg       1.00      1.00      1.00    262144\n",
      "\n",
      "\n"
     ]
    }
   ],
   "source": [
    "print(\"Random Foresy:\")\n",
    "print(\"Accuracy:\", accuracy_score(df_new_test_y, pred_rfc))\n",
    "print(\"Precision:\", precision_score(df_new_test_y, pred_rfc))\n",
    "print(\"Recall:\", recall_score(df_new_test_y, pred_rfc))\n",
    "print(\"F1 Score:\", f1_score(df_new_test_y, pred_rfc))\n",
    "print(\"Confusion Matrix:\")\n",
    "print(confusion_matrix(df_new_test_y, pred_rfc))\n",
    "print(\"Classification Report:\")\n",
    "print(classification_report(df_new_test_y, pred_rfc))\n",
    "print()"
   ]
  },
  {
   "cell_type": "code",
   "execution_count": 73,
   "id": "7be690b5",
   "metadata": {},
   "outputs": [],
   "source": [
    "f_imp = pd.DataFrame()"
   ]
  },
  {
   "cell_type": "code",
   "execution_count": 75,
   "id": "eab906e0",
   "metadata": {},
   "outputs": [],
   "source": [
    "f_imp['Features'] = df_new_train_x.columns\n",
    "f_imp['Importance'] = rfc.feature_importances_"
   ]
  },
  {
   "cell_type": "code",
   "execution_count": 76,
   "id": "2e2ddf07",
   "metadata": {},
   "outputs": [
    {
     "data": {
      "text/html": [
       "<div>\n",
       "<style scoped>\n",
       "    .dataframe tbody tr th:only-of-type {\n",
       "        vertical-align: middle;\n",
       "    }\n",
       "\n",
       "    .dataframe tbody tr th {\n",
       "        vertical-align: top;\n",
       "    }\n",
       "\n",
       "    .dataframe thead th {\n",
       "        text-align: right;\n",
       "    }\n",
       "</style>\n",
       "<table border=\"1\" class=\"dataframe\">\n",
       "  <thead>\n",
       "    <tr style=\"text-align: right;\">\n",
       "      <th></th>\n",
       "      <th>Features</th>\n",
       "      <th>Importance</th>\n",
       "    </tr>\n",
       "  </thead>\n",
       "  <tbody>\n",
       "    <tr>\n",
       "      <th>3</th>\n",
       "      <td>oldbalanceOrg</td>\n",
       "      <td>0.231286</td>\n",
       "    </tr>\n",
       "    <tr>\n",
       "      <th>0</th>\n",
       "      <td>step</td>\n",
       "      <td>0.212276</td>\n",
       "    </tr>\n",
       "    <tr>\n",
       "      <th>4</th>\n",
       "      <td>newbalanceOrig</td>\n",
       "      <td>0.180167</td>\n",
       "    </tr>\n",
       "    <tr>\n",
       "      <th>2</th>\n",
       "      <td>amount</td>\n",
       "      <td>0.128488</td>\n",
       "    </tr>\n",
       "    <tr>\n",
       "      <th>1</th>\n",
       "      <td>type</td>\n",
       "      <td>0.120075</td>\n",
       "    </tr>\n",
       "    <tr>\n",
       "      <th>6</th>\n",
       "      <td>newbalanceDest</td>\n",
       "      <td>0.073274</td>\n",
       "    </tr>\n",
       "    <tr>\n",
       "      <th>5</th>\n",
       "      <td>oldbalanceDest</td>\n",
       "      <td>0.054434</td>\n",
       "    </tr>\n",
       "  </tbody>\n",
       "</table>\n",
       "</div>"
      ],
      "text/plain": [
       "         Features  Importance\n",
       "3   oldbalanceOrg    0.231286\n",
       "0            step    0.212276\n",
       "4  newbalanceOrig    0.180167\n",
       "2          amount    0.128488\n",
       "1            type    0.120075\n",
       "6  newbalanceDest    0.073274\n",
       "5  oldbalanceDest    0.054434"
      ]
     },
     "execution_count": 76,
     "metadata": {},
     "output_type": "execute_result"
    }
   ],
   "source": [
    "f_imp.sort_values('Importance' , ascending=False)"
   ]
  },
  {
   "cell_type": "code",
   "execution_count": 63,
   "id": "e6466390",
   "metadata": {},
   "outputs": [
    {
     "data": {
      "image/png": "[encoded data removed]",
      "text/plain": [
       "<Figure size 1080x432 with 1 Axes>"
      ]
     },
     "metadata": {
      "needs_background": "light"
     },
     "output_type": "display_data"
    }
   ],
   "source": [
    "labels = ['Logistic Regression', 'Decision Tree', 'KNN','AdaBoost']\n",
    "accuracies = [log_accuracy, dt_accuracy, knn_accuracy ,ada_accuracy]\n",
    "\n",
    "plt.figure(figsize=(15,6))\n",
    "sns.barplot(x =labels  , y = accuracies ,ci=None, palette = 'hls')\n",
    "plt.show()"
   ]
  },
  {
   "cell_type": "markdown",
   "id": "9dc35759",
   "metadata": {},
   "source": [
    "# Pickling the Model file for Deployement"
   ]
  },
  {
   "cell_type": "code",
   "execution_count": 65,
   "id": "10e651ef",
   "metadata": {},
   "outputs": [],
   "source": [
    "import pickle\n",
    "filename = 'logistic_regression_model.pkl'\n",
    "pickle.dump(lr, open(filename, 'wb'))"
   ]
  },
  {
   "cell_type": "code",
   "execution_count": null,
   "id": "6c1dfb72",
   "metadata": {},
   "outputs": [],
   "source": []
  }
 ],
 "metadata": {
  "kernelspec": {
   "display_name": "Python 3 (ipykernel)",
   "language": "python",
   "name": "python3"
  },
  "language_info": {
   "codemirror_mode": {
    "name": "ipython",
    "version": 3
   },
   "file_extension": ".py",
   "mimetype": "text/x-python",
   "name": "python",
   "nbconvert_exporter": "python",
   "pygments_lexer": "ipython3",
   "version": "3.9.12"
  }
 },
 "nbformat": 4,
 "nbformat_minor": 5
}
